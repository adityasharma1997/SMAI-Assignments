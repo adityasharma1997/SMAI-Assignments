{
  "cells": [
    {
      "cell_type": "markdown",
      "id": "7b7992a1",
      "metadata": {
        "id": "7b7992a1"
      },
      "source": [
        "# Image Recommendation System via Collaborative Filtering"
      ]
    },
    {
      "cell_type": "markdown",
      "id": "bdbd69cd",
      "metadata": {
        "id": "bdbd69cd"
      },
      "source": [
        "# ***Please read the instructions very carefully***"
      ]
    },
    {
      "cell_type": "markdown",
      "id": "17602772",
      "metadata": {
        "id": "17602772"
      },
      "source": [
        "1.   Assignment must be implemented in Python 3 only.\n",
        "2.   You are allowed to use libraries for data preprocessing (numpy, pandas etc) and for evaluation metrics, data visualization (matplotlib etc.).\n",
        "3.   You will be evaluated not just on the overall performance of the model and also on the experimentation with hyper parameters, data prepossessing techniques etc.\n",
        "4.   ⚠️ The Assignment will be evaluated automatically. Please adhere to taking proper inputs from `config.csv` file. You can change your `config.csv` file to experiment with your code. But at the end, make sure that your outputs are corresponding to input values in `config.csv`"
      ]
    },
    {
      "cell_type": "markdown",
      "id": "3c9abf04",
      "metadata": {
        "id": "3c9abf04"
      },
      "source": [
        "## About the Dataset\n",
        "Behance is a community art website where users showcase and discover creative work. Each user is able to “appreciate” (equivalent to a “like” on Instagram or a “react” on Facebook) an image, indicating that they like the image. It is in the website’s best interests to show users pictures that they would like, to keep them engaged for longer. For this question, given a set of pictures that a user has already appreciated, you have to show them a new picture that they would like based on what similar users appreciated.\n",
        "\n",
        "\n",
        "<br><br>\n",
        "**The dataset has information of 1 million appreciates of 63,497 users on 178,788 items. The file Behance appreciate 1M has a triplet in each line in the form of (user id, item id, unix timestamp).**"
      ]
    },
    {
      "cell_type": "markdown",
      "id": "11f6eaf3",
      "metadata": {
        "id": "11f6eaf3"
      },
      "source": [
        "**Task: Take the inputs from the config.csv file and output the recommendations for a particular person**\n",
        "- Collaborative Filtering is a way to predict items to the user based on the the\n",
        "user’s history and the history of similar users. The similarity between users can be quantified by the number of images that both the users appreciated.\n",
        "- The images appreciated by a similar user would be the most suitable images to show a user. Since we can find the similarity between any two users, we would be able to find the “nearest” neighbours of any user, allowing us to use a KNN-based algorithm to recommend new images to a user.\n",
        "- Since people do not like seeing pictures that they have seen already. Make sure that you do not recommend pictures that a user has appreciated already.\n",
        "- Output the final response will be saved in the file named ```config['output_file']```.\n"
      ]
    },
    {
      "cell_type": "markdown",
      "id": "1c9a5e4f",
      "metadata": {
        "id": "1c9a5e4f"
      },
      "source": [
        "**Output file format:**\n",
        "Populate the output file with images that the user has not seen of the k most\n",
        "similar users, in descending order of their similarity. Each line in the output\n",
        "file should be a duplet in the form of (item id, user id), where the user id is the\n",
        "id of the kth similar user. The order of the images corresponding to the same\n",
        "similar user would not matter. The output file would look something like this:\n",
        "```\n",
        "item_id_1_of_1st_similar_user 1st_most_similar_user_id\n",
        "item_id_2_of_1st_similar_user 1st_most_similar_user_id\n",
        "item_id_3_of_1st_similar_user 1st_most_similar_user_id\n",
        "...\n",
        "item_id_1_of_2nd_similar_user 2nd_most_similar_user_id\n",
        "item_id_2_of_2nd_similar_user 2nd_most_similar_user_id\n",
        "item_id_3_of_2nd_similar_user 2nd_most_similar_user_id\n",
        "...\n",
        "item_id_1_of_kth_similar_user kth_most_similar_user_id\n",
        "item_id_2_of_kth_similar_user kth_most_similar_user_id\n",
        "item_id_3_of_kth_similar_user kth_most_similar_user_id\n",
        "```"
      ]
    },
    {
      "cell_type": "markdown",
      "id": "c6d0c592",
      "metadata": {
        "id": "c6d0c592"
      },
      "source": [
        "The dataset was extracted using Behance’s API as a part of the paper\n",
        "“Vista: A visually, socially, and temporally-aware model for artistic\n",
        "recommendation, RecSys, 2016”. Check out this [Google Drive folder](https://drive.google.com/drive/folders/0B9Ck8jw-TZUEc3NlMjVXdDlPU1k?resourcekey=0-6_8ykn0o4fLc5fuTEm91xA) for\n",
        "more information about the dataset.\n",
        "\n",
        "\n",
        "Have fun! The users are waiting to see new pictures!"
      ]
    },
    {
      "cell_type": "markdown",
      "id": "87b8072a",
      "metadata": {
        "id": "87b8072a"
      },
      "source": [
        "### Import necessary libraries"
      ]
    },
    {
      "cell_type": "code",
      "execution_count": null,
      "id": "f153853d",
      "metadata": {
        "id": "f153853d"
      },
      "outputs": [],
      "source": [
        "import numpy as np\n",
        "import pandas as pd\n",
        "from numpy import dot\n",
        "from numpy.linalg import norm"
      ]
    },
    {
      "cell_type": "code",
      "execution_count": null,
      "id": "41ac6337",
      "metadata": {
        "id": "41ac6337"
      },
      "outputs": [],
      "source": [
        "# Config Generation Sample Code.\n",
        "# ⚠️ Only for experimentation on your side.\n",
        "# ⚠️ Should be commented during submission.\n",
        "\n",
        "# df = pd.DataFrame(data=[{'id':276633,\n",
        "#                   'k':5,\n",
        "#                   'dataset_file':'./Behance_appreciate_1M',\n",
        "#                   'output_file':'./output.txt'}])\n",
        "# df.to_csv('config.csv')"
      ]
    },
    {
      "cell_type": "code",
      "execution_count": null,
      "id": "7af3e999",
      "metadata": {
        "id": "7af3e999"
      },
      "outputs": [],
      "source": [
        "config = pd.read_csv('config.csv').iloc[0]"
      ]
    },
    {
      "cell_type": "code",
      "execution_count": null,
      "id": "829d0147",
      "metadata": {
        "colab": {
          "base_uri": "https://localhost:8080/"
        },
        "id": "829d0147",
        "outputId": "368d7efc-7950-4f51-ba37-846bee909fff"
      },
      "outputs": [
        {
          "output_type": "execute_result",
          "data": {
            "text/plain": [
              "Unnamed: 0                            0\n",
              "id                               276633\n",
              "k                                     5\n",
              "dataset_file    ./Behance_appreciate_1M\n",
              "output_file                ./output.txt\n",
              "Name: 0, dtype: object"
            ]
          },
          "metadata": {},
          "execution_count": 4
        }
      ],
      "source": [
        "config"
      ]
    },
    {
      "cell_type": "code",
      "execution_count": null,
      "id": "1bde1a49",
      "metadata": {
        "id": "1bde1a49"
      },
      "outputs": [],
      "source": [
        "user = config['id']\n",
        "k_value = config['k']"
      ]
    },
    {
      "cell_type": "markdown",
      "id": "10935090",
      "metadata": {
        "id": "10935090"
      },
      "source": [
        "### Read the Data"
      ]
    },
    {
      "cell_type": "code",
      "execution_count": null,
      "id": "5bbba85a",
      "metadata": {
        "id": "5bbba85a"
      },
      "outputs": [],
      "source": [
        "with open(config['dataset_file'], 'r') as inFile:\n",
        "    appreciate_data = inFile.readlines()"
      ]
    },
    {
      "cell_type": "markdown",
      "id": "99512e25",
      "metadata": {
        "id": "99512e25"
      },
      "source": [
        "### Initialize a dictionary to store the item_ids that a user likes\n",
        "\n",
        "### Go through each line of the input file and construct the user_likes dictionary"
      ]
    },
    {
      "cell_type": "code",
      "execution_count": null,
      "id": "1d3d9be5",
      "metadata": {
        "id": "1d3d9be5"
      },
      "outputs": [],
      "source": [
        "user_likes = dict()\n",
        "different_image=dict()\n",
        "dict_to_store_index=dict()\n",
        "index=0\n",
        "index_key=0\n",
        "key_user=-1\n",
        "for line in appreciate_data:\n",
        "  line = line.strip()\n",
        "  user_id = int(line.split()[0])\n",
        "  item_id = int(line.split()[1])\n",
        "  if user_id not in user_likes:\n",
        "    user_likes[user_id] = list()\n",
        "    if user_id==user:\n",
        "      key_user=index_key\n",
        "    dict_to_store_index[index_key]=user_id\n",
        "    index_key=index_key+1\n",
        "  user_likes[user_id].append(item_id)\n",
        "  if item_id not in different_image:\n",
        "    different_image[item_id]=index\n",
        "    index=index+1\n",
        "  #user_likes[user_id].append(item_id)\n",
        "#user_likes\n",
        "#user_likes\n",
        "#print(len(different_image))\n",
        "#len(user_likes)\n",
        "#print(user)\n",
        "#len(user_likes)\n"
      ]
    },
    {
      "cell_type": "code",
      "execution_count": null,
      "id": "80a539f1",
      "metadata": {
        "id": "80a539f1"
      },
      "outputs": [],
      "source": [
        "diff_user=len(user_likes)\n",
        "diff_image=len(different_image)\n",
        "dense_matrix=np.zeros((diff_user,diff_image),dtype=np.int8)\n",
        "\n"
      ]
    },
    {
      "cell_type": "code",
      "source": [
        "row=0\n",
        "for i in list(user_likes.keys()):\n",
        "  for j in user_likes[i]:\n",
        "    dense_matrix[row][different_image[j]]=1\n",
        "  row=row+1"
      ],
      "metadata": {
        "id": "zxe-4HncW1tz"
      },
      "id": "zxe-4HncW1tz",
      "execution_count": null,
      "outputs": []
    },
    {
      "cell_type": "code",
      "source": [
        "from scipy.sparse import csr_matrix\n",
        "sparse_mat=csr_matrix(dense_matrix)\n",
        "del(dense_matrix)"
      ],
      "metadata": {
        "id": "S0yvr-iIW5SY"
      },
      "id": "S0yvr-iIW5SY",
      "execution_count": null,
      "outputs": []
    },
    {
      "cell_type": "code",
      "source": [
        "from sklearn.decomposition import TruncatedSVD\n",
        "svd = TruncatedSVD(n_components=1000, n_iter=7, random_state=42)\n",
        "sparse_matrix=svd.fit_transform(sparse_mat)"
      ],
      "metadata": {
        "id": "3eJ3EryvW9Uw"
      },
      "id": "3eJ3EryvW9Uw",
      "execution_count": null,
      "outputs": []
    },
    {
      "cell_type": "markdown",
      "id": "9e199965",
      "metadata": {
        "id": "9e199965"
      },
      "source": [
        "### Use KNN after Collaborative Filtering to find nearest neighbors"
      ]
    },
    {
      "cell_type": "code",
      "execution_count": null,
      "id": "2117df52",
      "metadata": {
        "id": "2117df52"
      },
      "outputs": [],
      "source": [
        "def neighbors(user,k_value):  \n",
        "  i=0\n",
        "  dict_of_val=dict()\n",
        "  for row in sparse_matrix:\n",
        "    this_user=dict_to_store_index[i]\n",
        "    if this_user!=user:\n",
        "      result= dot(sparse_matrix[i], sparse_matrix[key_user])/(norm(sparse_matrix[i])*norm(sparse_matrix[key_user]))\n",
        "      #result=1-spatial.distance.cosine(sparse_matrix[i],sparse_matrix[key_user])  #passing ndarray\n",
        "      if result not in dict_of_val:\n",
        "        dict_of_val[result]=list()\n",
        "      dict_of_val[result].append(i)\n",
        "    i=i+1\n",
        "\n",
        "  list_of_result=list(dict_of_val.keys())\n",
        "  list_of_result.sort(reverse=True)\n",
        "\n",
        "  main_list=list()\n",
        "  k=k_value\n",
        "  while k>0:\n",
        "    for i in list_of_result:\n",
        "      temp=list(dict_of_val[i])\n",
        "      if k==0:\n",
        "        break\n",
        "      for j in temp:\n",
        "        main_list.append(dict_to_store_index[j])\n",
        "        k=k-1\n",
        "        if k==0:\n",
        "          break\n",
        "  return main_list       "
      ]
    },
    {
      "cell_type": "markdown",
      "id": "892c395b",
      "metadata": {
        "id": "892c395b"
      },
      "source": [
        "### Open the output file to write all the lines to the file"
      ]
    },
    {
      "cell_type": "code",
      "execution_count": null,
      "id": "428708d5",
      "metadata": {
        "id": "428708d5"
      },
      "outputs": [],
      "source": [
        "outFile = open(config['output_file'], 'w')\n",
        "for user_id in neighbors(user,k_value):\n",
        "  #user_id = list(user_likes.keys())[n_user]\n",
        "  main_set=set(user_likes[user])\n",
        "  ultimate_set=set(user_likes[user_id])\n",
        "  final_set=ultimate_set.difference(main_set)\n",
        "  for item_id in final_set:\n",
        "    outFile.write(str(item_id) + ' ' + str(user_id) + '\\n')\n",
        "outFile.close()"
      ]
    }
  ],
  "metadata": {
    "kernelspec": {
      "display_name": "Python 3",
      "language": "python",
      "name": "python3"
    },
    "language_info": {
      "codemirror_mode": {
        "name": "ipython",
        "version": 3
      },
      "file_extension": ".py",
      "mimetype": "text/x-python",
      "name": "python",
      "nbconvert_exporter": "python",
      "pygments_lexer": "ipython3",
      "version": "3.8.10"
    },
    "colab": {
      "name": "2021201016_Assignment1_Question1.ipynb",
      "provenance": [],
      "collapsed_sections": []
    }
  },
  "nbformat": 4,
  "nbformat_minor": 5
}