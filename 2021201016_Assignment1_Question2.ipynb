{
  "cells": [
    {
      "cell_type": "markdown",
      "id": "866ed254",
      "metadata": {
        "id": "866ed254"
      },
      "source": [
        "# Approximate Nearest Neighbors:\n",
        "\n",
        "# Image Recommendation System via Collaborative Filtering"
      ]
    },
    {
      "cell_type": "markdown",
      "id": "2e08937a",
      "metadata": {
        "id": "2e08937a"
      },
      "source": [
        "# ***Please read the instructions very carefully***\n",
        "This is a modified version of the previous question and requires you to use an artificial nearest neighbors library\n",
        "\n",
        "We suggest you to use one of the following:\n",
        "- [ScaNN](https://github.com/google-research/google-research/tree/master/scann)\n",
        "- [FAISS](https://github.com/facebookresearch/faiss)\n",
        "- [Annoy](https://github.com/spotify/annoy.git)"
      ]
    },
    {
      "cell_type": "markdown",
      "id": "489a4212",
      "metadata": {
        "id": "489a4212"
      },
      "source": [
        "1.   Assignment must be implemented in Python 3 only.\n",
        "2.   You are allowed to use libraries for data preprocessing (numpy, pandas etc) and for evaluation metrics, data visualization (matplotlib etc.).\n",
        "3.   You will be evaluated not just on the overall performance of the model and also on the experimentation with hyper parameters, data prepossessing techniques etc.\n",
        "4.   ⚠️ The Assignment will be evaluated automatically. Please adhere to taking proper inputs from `config.csv` file. You can change your `config.csv` file to experiment with your code. But at the end, make sure that your outputs are corresponding to input values in `config.csv`"
      ]
    },
    {
      "cell_type": "markdown",
      "id": "f494560c",
      "metadata": {
        "id": "f494560c"
      },
      "source": [
        "## About the Dataset\n",
        "Behance is a community art website where users showcase and discover creative work. Each user is able to “appreciate” (equivalent to a “like” on Instagram or a “react” on Facebook) an image, indicating that they like the image. It is in the website’s best interests to show users pictures that they would like, to keep them engaged for longer. For this question, given a set of pictures that a user has already appreciated, you have to show them a new picture that they would like based on what similar users appreciated.\n",
        "\n",
        "\n",
        "<br><br>\n",
        "**The dataset has information of 1 million appreciates of 63,497 users on 178,788 items. The file Behance appreciate 1M has a triplet in each line in the form of (user id, item id, unix timestamp).**"
      ]
    },
    {
      "cell_type": "markdown",
      "id": "d8dd3f15",
      "metadata": {
        "id": "d8dd3f15"
      },
      "source": [
        "**Task: Take the inputs from the config.csv file and output the recommendations for a particular person**\n",
        "- Collaborative Filtering is a way to predict items to the user based on the the\n",
        "user’s history and the history of similar users. The similarity between users can be quantified by the number of images that both the users appreciated.\n",
        "- The images appreciated by a similar user would be the most suitable images to show a user. Since we can find the similarity between any two users, we would be able to find the “nearest” neighbours of any user, allowing us to use a KNN-based algorithm to recommend new images to a user.\n",
        "- Since people do not like seeing pictures that they have seen already. Make sure that you do not recommend pictures that a user has appreciated already.\n",
        "- Output the final response will be saved in the file named ```config['output_file']```.\n"
      ]
    },
    {
      "cell_type": "markdown",
      "id": "68a52fe5",
      "metadata": {
        "id": "68a52fe5"
      },
      "source": [
        "**Output file format:**\n",
        "Populate the output file with images that the user has not seen of the k most\n",
        "similar users, in descending order of their similarity. Each line in the output\n",
        "file should be a duplet in the form of (item id, user id), where the user id is the\n",
        "id of the kth similar user. The order of the images corresponding to the same\n",
        "similar user would not matter. The output file would look something like this:\n",
        "```\n",
        "item_id_1_of_1st_similar_user 1st_most_similar_user_id\n",
        "item_id_2_of_1st_similar_user 1st_most_similar_user_id\n",
        "item_id_3_of_1st_similar_user 1st_most_similar_user_id\n",
        "...\n",
        "item_id_1_of_2nd_similar_user 2nd_most_similar_user_id\n",
        "item_id_2_of_2nd_similar_user 2nd_most_similar_user_id\n",
        "item_id_3_of_2nd_similar_user 2nd_most_similar_user_id\n",
        "...\n",
        "item_id_1_of_kth_similar_user kth_most_similar_user_id\n",
        "item_id_2_of_kth_similar_user kth_most_similar_user_id\n",
        "item_id_3_of_kth_similar_user kth_most_similar_user_id\n",
        "```"
      ]
    },
    {
      "cell_type": "markdown",
      "id": "26d46fd2",
      "metadata": {
        "id": "26d46fd2"
      },
      "source": [
        "You may use any other recommendation system that you wish to use. However,\n",
        "evaluation script will score your submission by measuring the similarity between\n",
        "users with the number of common images they appreciated.\n",
        "The dataset was extracted using Behance’s API as a part of the paper\n",
        "“Vista: A visually, socially, and temporally-aware model for artistic\n",
        "recommendation, RecSys, 2016”. Check out this [Google Drive folder](https://drive.google.com/drive/folders/0B9Ck8jw-TZUEc3NlMjVXdDlPU1k?resourcekey=0-6_8ykn0o4fLc5fuTEm91xA) for\n",
        "more information about the dataset.\n",
        "\n",
        "\n",
        "Have fun! The users are waiting to see new pictures!"
      ]
    },
    {
      "cell_type": "markdown",
      "id": "912088cf",
      "metadata": {
        "id": "912088cf"
      },
      "source": [
        "### Import necessary libraries"
      ]
    },
    {
      "cell_type": "code",
      "source": [
        "!pip install scann"
      ],
      "metadata": {
        "id": "MVu6YdhG96eC",
        "colab": {
          "base_uri": "https://localhost:8080/"
        },
        "outputId": "181b6334-3cb3-4bb1-f335-57fe910e9c2f"
      },
      "id": "MVu6YdhG96eC",
      "execution_count": 1,
      "outputs": [
        {
          "output_type": "stream",
          "name": "stdout",
          "text": [
            "Collecting scann\n",
            "  Downloading scann-1.2.4-cp37-cp37m-manylinux2014_x86_64.whl (10.6 MB)\n",
            "\u001b[K     |████████████████████████████████| 10.6 MB 5.2 MB/s \n",
            "\u001b[?25hRequirement already satisfied: numpy in /usr/local/lib/python3.7/dist-packages (from scann) (1.19.5)\n",
            "Requirement already satisfied: tensorflow~=2.7.0 in /usr/local/lib/python3.7/dist-packages (from scann) (2.7.0)\n",
            "Requirement already satisfied: flatbuffers<3.0,>=1.12 in /usr/local/lib/python3.7/dist-packages (from tensorflow~=2.7.0->scann) (2.0)\n",
            "Requirement already satisfied: h5py>=2.9.0 in /usr/local/lib/python3.7/dist-packages (from tensorflow~=2.7.0->scann) (3.1.0)\n",
            "Requirement already satisfied: grpcio<2.0,>=1.24.3 in /usr/local/lib/python3.7/dist-packages (from tensorflow~=2.7.0->scann) (1.43.0)\n",
            "Requirement already satisfied: opt-einsum>=2.3.2 in /usr/local/lib/python3.7/dist-packages (from tensorflow~=2.7.0->scann) (3.3.0)\n",
            "Requirement already satisfied: wrapt>=1.11.0 in /usr/local/lib/python3.7/dist-packages (from tensorflow~=2.7.0->scann) (1.13.3)\n",
            "Requirement already satisfied: google-pasta>=0.1.1 in /usr/local/lib/python3.7/dist-packages (from tensorflow~=2.7.0->scann) (0.2.0)\n",
            "Requirement already satisfied: absl-py>=0.4.0 in /usr/local/lib/python3.7/dist-packages (from tensorflow~=2.7.0->scann) (1.0.0)\n",
            "Requirement already satisfied: tensorflow-io-gcs-filesystem>=0.21.0 in /usr/local/lib/python3.7/dist-packages (from tensorflow~=2.7.0->scann) (0.23.1)\n",
            "Requirement already satisfied: six>=1.12.0 in /usr/local/lib/python3.7/dist-packages (from tensorflow~=2.7.0->scann) (1.15.0)\n",
            "Requirement already satisfied: tensorflow-estimator<2.8,~=2.7.0rc0 in /usr/local/lib/python3.7/dist-packages (from tensorflow~=2.7.0->scann) (2.7.0)\n",
            "Requirement already satisfied: astunparse>=1.6.0 in /usr/local/lib/python3.7/dist-packages (from tensorflow~=2.7.0->scann) (1.6.3)\n",
            "Requirement already satisfied: termcolor>=1.1.0 in /usr/local/lib/python3.7/dist-packages (from tensorflow~=2.7.0->scann) (1.1.0)\n",
            "Requirement already satisfied: protobuf>=3.9.2 in /usr/local/lib/python3.7/dist-packages (from tensorflow~=2.7.0->scann) (3.17.3)\n",
            "Requirement already satisfied: libclang>=9.0.1 in /usr/local/lib/python3.7/dist-packages (from tensorflow~=2.7.0->scann) (12.0.0)\n",
            "Requirement already satisfied: typing-extensions>=3.6.6 in /usr/local/lib/python3.7/dist-packages (from tensorflow~=2.7.0->scann) (3.10.0.2)\n",
            "Requirement already satisfied: gast<0.5.0,>=0.2.1 in /usr/local/lib/python3.7/dist-packages (from tensorflow~=2.7.0->scann) (0.4.0)\n",
            "Requirement already satisfied: keras<2.8,>=2.7.0rc0 in /usr/local/lib/python3.7/dist-packages (from tensorflow~=2.7.0->scann) (2.7.0)\n",
            "Requirement already satisfied: tensorboard~=2.6 in /usr/local/lib/python3.7/dist-packages (from tensorflow~=2.7.0->scann) (2.7.0)\n",
            "Requirement already satisfied: keras-preprocessing>=1.1.1 in /usr/local/lib/python3.7/dist-packages (from tensorflow~=2.7.0->scann) (1.1.2)\n",
            "Requirement already satisfied: wheel<1.0,>=0.32.0 in /usr/local/lib/python3.7/dist-packages (from tensorflow~=2.7.0->scann) (0.37.1)\n",
            "Requirement already satisfied: cached-property in /usr/local/lib/python3.7/dist-packages (from h5py>=2.9.0->tensorflow~=2.7.0->scann) (1.5.2)\n",
            "Requirement already satisfied: markdown>=2.6.8 in /usr/local/lib/python3.7/dist-packages (from tensorboard~=2.6->tensorflow~=2.7.0->scann) (3.3.6)\n",
            "Requirement already satisfied: tensorboard-plugin-wit>=1.6.0 in /usr/local/lib/python3.7/dist-packages (from tensorboard~=2.6->tensorflow~=2.7.0->scann) (1.8.1)\n",
            "Requirement already satisfied: google-auth<3,>=1.6.3 in /usr/local/lib/python3.7/dist-packages (from tensorboard~=2.6->tensorflow~=2.7.0->scann) (1.35.0)\n",
            "Requirement already satisfied: google-auth-oauthlib<0.5,>=0.4.1 in /usr/local/lib/python3.7/dist-packages (from tensorboard~=2.6->tensorflow~=2.7.0->scann) (0.4.6)\n",
            "Requirement already satisfied: setuptools>=41.0.0 in /usr/local/lib/python3.7/dist-packages (from tensorboard~=2.6->tensorflow~=2.7.0->scann) (57.4.0)\n",
            "Requirement already satisfied: requests<3,>=2.21.0 in /usr/local/lib/python3.7/dist-packages (from tensorboard~=2.6->tensorflow~=2.7.0->scann) (2.23.0)\n",
            "Requirement already satisfied: tensorboard-data-server<0.7.0,>=0.6.0 in /usr/local/lib/python3.7/dist-packages (from tensorboard~=2.6->tensorflow~=2.7.0->scann) (0.6.1)\n",
            "Requirement already satisfied: werkzeug>=0.11.15 in /usr/local/lib/python3.7/dist-packages (from tensorboard~=2.6->tensorflow~=2.7.0->scann) (1.0.1)\n",
            "Requirement already satisfied: cachetools<5.0,>=2.0.0 in /usr/local/lib/python3.7/dist-packages (from google-auth<3,>=1.6.3->tensorboard~=2.6->tensorflow~=2.7.0->scann) (4.2.4)\n",
            "Requirement already satisfied: pyasn1-modules>=0.2.1 in /usr/local/lib/python3.7/dist-packages (from google-auth<3,>=1.6.3->tensorboard~=2.6->tensorflow~=2.7.0->scann) (0.2.8)\n",
            "Requirement already satisfied: rsa<5,>=3.1.4 in /usr/local/lib/python3.7/dist-packages (from google-auth<3,>=1.6.3->tensorboard~=2.6->tensorflow~=2.7.0->scann) (4.8)\n",
            "Requirement already satisfied: requests-oauthlib>=0.7.0 in /usr/local/lib/python3.7/dist-packages (from google-auth-oauthlib<0.5,>=0.4.1->tensorboard~=2.6->tensorflow~=2.7.0->scann) (1.3.0)\n",
            "Requirement already satisfied: importlib-metadata>=4.4 in /usr/local/lib/python3.7/dist-packages (from markdown>=2.6.8->tensorboard~=2.6->tensorflow~=2.7.0->scann) (4.10.1)\n",
            "Requirement already satisfied: zipp>=0.5 in /usr/local/lib/python3.7/dist-packages (from importlib-metadata>=4.4->markdown>=2.6.8->tensorboard~=2.6->tensorflow~=2.7.0->scann) (3.7.0)\n",
            "Requirement already satisfied: pyasn1<0.5.0,>=0.4.6 in /usr/local/lib/python3.7/dist-packages (from pyasn1-modules>=0.2.1->google-auth<3,>=1.6.3->tensorboard~=2.6->tensorflow~=2.7.0->scann) (0.4.8)\n",
            "Requirement already satisfied: certifi>=2017.4.17 in /usr/local/lib/python3.7/dist-packages (from requests<3,>=2.21.0->tensorboard~=2.6->tensorflow~=2.7.0->scann) (2021.10.8)\n",
            "Requirement already satisfied: chardet<4,>=3.0.2 in /usr/local/lib/python3.7/dist-packages (from requests<3,>=2.21.0->tensorboard~=2.6->tensorflow~=2.7.0->scann) (3.0.4)\n",
            "Requirement already satisfied: idna<3,>=2.5 in /usr/local/lib/python3.7/dist-packages (from requests<3,>=2.21.0->tensorboard~=2.6->tensorflow~=2.7.0->scann) (2.10)\n",
            "Requirement already satisfied: urllib3!=1.25.0,!=1.25.1,<1.26,>=1.21.1 in /usr/local/lib/python3.7/dist-packages (from requests<3,>=2.21.0->tensorboard~=2.6->tensorflow~=2.7.0->scann) (1.24.3)\n",
            "Requirement already satisfied: oauthlib>=3.0.0 in /usr/local/lib/python3.7/dist-packages (from requests-oauthlib>=0.7.0->google-auth-oauthlib<0.5,>=0.4.1->tensorboard~=2.6->tensorflow~=2.7.0->scann) (3.1.1)\n",
            "Installing collected packages: scann\n",
            "Successfully installed scann-1.2.4\n"
          ]
        }
      ]
    },
    {
      "cell_type": "code",
      "execution_count": 2,
      "id": "13e9cbe3",
      "metadata": {
        "id": "13e9cbe3"
      },
      "outputs": [],
      "source": [
        "import numpy as np\n",
        "import pandas as pd\n",
        "import scann"
      ]
    },
    {
      "cell_type": "code",
      "execution_count": 3,
      "id": "0c9c4cd1",
      "metadata": {
        "id": "0c9c4cd1"
      },
      "outputs": [],
      "source": [
        "# Config Generation Sample Code.\n",
        "# ⚠️ Only for experimentation on your side.\n",
        "# ⚠️ Should be commented during submission.\n",
        "\n",
        "# df = pd.DataFrame(data=[{'id':276633,\n",
        "#                   'k':5,\n",
        "#                   'dataset_file':'./Behance_appreciate_1M',\n",
        "#                   'output_file':'./output.txt'}])\n",
        "# df.to_csv('config.csv')"
      ]
    },
    {
      "cell_type": "code",
      "execution_count": 4,
      "id": "cb6bc1ff",
      "metadata": {
        "colab": {
          "base_uri": "https://localhost:8080/"
        },
        "id": "cb6bc1ff",
        "outputId": "2c493af4-f3f8-4990-dfec-722dcb93a3f2"
      },
      "outputs": [
        {
          "output_type": "stream",
          "name": "stdout",
          "text": [
            "Unnamed: 0                            0\n",
            "id                               276633\n",
            "k                                     5\n",
            "dataset_file    ./Behance_appreciate_1M\n",
            "output_file                ./output.txt\n",
            "Name: 0, dtype: object\n"
          ]
        }
      ],
      "source": [
        "config=pd.read_csv('config.csv').iloc[0]\n",
        "print(config)"
      ]
    },
    {
      "cell_type": "code",
      "execution_count": 5,
      "id": "297ed2b1",
      "metadata": {
        "colab": {
          "base_uri": "https://localhost:8080/"
        },
        "id": "297ed2b1",
        "outputId": "c081f12b-00ae-4360-cfa8-f76fbe950a1e"
      },
      "outputs": [
        {
          "output_type": "stream",
          "name": "stdout",
          "text": [
            "276633\n",
            "5\n"
          ]
        }
      ],
      "source": [
        "user=config['id']\n",
        "k_value=config['k']\n",
        "print(user)\n",
        "print(k_value)"
      ]
    },
    {
      "cell_type": "markdown",
      "id": "e8e50dee",
      "metadata": {
        "id": "e8e50dee"
      },
      "source": [
        "### Read the Data"
      ]
    },
    {
      "cell_type": "code",
      "execution_count": 6,
      "id": "cd74173b",
      "metadata": {
        "colab": {
          "base_uri": "https://localhost:8080/"
        },
        "id": "cd74173b",
        "outputId": "7f9f2c32-68b4-4b52-8554-f4df6adba128"
      },
      "outputs": [
        {
          "output_type": "execute_result",
          "data": {
            "text/plain": [
              "1000000"
            ]
          },
          "metadata": {},
          "execution_count": 6
        }
      ],
      "source": [
        "with open(config['dataset_file'],'r') as inFile:\n",
        "  appreciate_data = inFile.readlines()\n",
        "\n",
        "len(appreciate_data)"
      ]
    },
    {
      "cell_type": "markdown",
      "id": "e09e9961",
      "metadata": {
        "id": "e09e9961"
      },
      "source": [
        "### Initialize a dictionary to store the item_ids that a user likes\n",
        "\n",
        "### Go through each line of the input file and construct the user_likes dictionary"
      ]
    },
    {
      "cell_type": "code",
      "execution_count": 7,
      "id": "5b55dc0b",
      "metadata": {
        "colab": {
          "base_uri": "https://localhost:8080/"
        },
        "id": "5b55dc0b",
        "outputId": "f3a4071b-d5e0-4f6f-aeec-33fc2ef87edc"
      },
      "outputs": [
        {
          "output_type": "stream",
          "name": "stdout",
          "text": [
            "178788\n",
            "276633\n"
          ]
        },
        {
          "output_type": "execute_result",
          "data": {
            "text/plain": [
              "63497"
            ]
          },
          "metadata": {},
          "execution_count": 7
        }
      ],
      "source": [
        "user_likes=dict()\n",
        "different_image=dict()\n",
        "dict_to_store_index=dict()\n",
        "index=0\n",
        "index_key=0\n",
        "key_user=-1\n",
        "for line in appreciate_data:\n",
        "  line = line.strip()\n",
        "  user_id = int(line.split()[0])\n",
        "  item_id = int(line.split()[1])\n",
        "  if user_id not in user_likes:\n",
        "    user_likes[user_id] = list()\n",
        "    if user_id==user:\n",
        "      key_user=index_key\n",
        "    dict_to_store_index[index_key]=user_id\n",
        "    index_key=index_key+1\n",
        "  user_likes[user_id].append(item_id)\n",
        "  if item_id not in different_image:\n",
        "    different_image[item_id]=index\n",
        "    index=index+1\n",
        "  #user_likes[user_id].append(item_id)\n",
        "#user_likes\n",
        "#user_likes\n",
        "print(len(different_image))\n",
        "#len(user_likes)\n",
        "print(user)\n",
        "len(user_likes)\n"
      ]
    },
    {
      "cell_type": "code",
      "source": [
        "diff_user=len(user_likes)\n",
        "diff_image=len(different_image)\n",
        "dense_matrix=np.zeros((diff_user,diff_image),dtype=np.int8)"
      ],
      "metadata": {
        "id": "yCudHK8m-eDm"
      },
      "id": "yCudHK8m-eDm",
      "execution_count": 8,
      "outputs": []
    },
    {
      "cell_type": "code",
      "source": [
        "row=0\n",
        "for i in list(user_likes.keys()):\n",
        "  for j in user_likes[i]:\n",
        "    dense_matrix[row][different_image[j]]=1\n",
        "  row=row+1"
      ],
      "metadata": {
        "id": "NwzR48Gb-e3A"
      },
      "id": "NwzR48Gb-e3A",
      "execution_count": 9,
      "outputs": []
    },
    {
      "cell_type": "code",
      "source": [
        "from scipy.sparse import csr_matrix\n",
        "sparse_mat=csr_matrix(dense_matrix)"
      ],
      "metadata": {
        "id": "SZ6aznR5-jdn"
      },
      "id": "SZ6aznR5-jdn",
      "execution_count": 10,
      "outputs": []
    },
    {
      "cell_type": "code",
      "source": [
        "del(dense_matrix)"
      ],
      "metadata": {
        "id": "vlR0ejAr-kbX"
      },
      "id": "vlR0ejAr-kbX",
      "execution_count": 11,
      "outputs": []
    },
    {
      "cell_type": "code",
      "source": [
        "from sklearn.decomposition import TruncatedSVD\n",
        "svd = TruncatedSVD(n_components=1000, n_iter=7, random_state=42)\n",
        "sparse_matrix=svd.fit_transform(sparse_mat)"
      ],
      "metadata": {
        "id": "5aBlxtFM-mr3"
      },
      "id": "5aBlxtFM-mr3",
      "execution_count": 12,
      "outputs": []
    },
    {
      "cell_type": "markdown",
      "id": "cd017880",
      "metadata": {
        "id": "cd017880"
      },
      "source": [
        "### Use your choice of Approximate Nearest Neigbor after Collaborative Filtering to find nearest neighbors"
      ]
    },
    {
      "cell_type": "code",
      "execution_count": 13,
      "id": "5ee1d377",
      "metadata": {
        "id": "5ee1d377"
      },
      "outputs": [],
      "source": [
        "def answer(user,k_value):\n",
        "  searcher = scann.scann_ops_pybind.builder(sparse_matrix, 10, \"dot_product\").tree(\n",
        "      num_leaves=2000, num_leaves_to_search=100, training_sample_size=len(sparse_matrix)).score_ah(\n",
        "      2, anisotropic_quantization_threshold=0.2).reorder(100).build()\n",
        "      \n",
        "  neighbors, distances = searcher.search(sparse_matrix[key_user], final_num_neighbors=k_value+1)\n",
        "  ans_list=list()\n",
        "  \n",
        "  row=1\n",
        "  temp=list()\n",
        "  while row<len(neighbors):\n",
        "    temp.append(neighbors[row])\n",
        "    row=row+1\n",
        "  for i in temp:\n",
        "    ans_list.append(dict_to_store_index[i])\n",
        "  return ans_list\n"
      ]
    },
    {
      "cell_type": "markdown",
      "id": "400d7827",
      "metadata": {
        "id": "400d7827"
      },
      "source": [
        "### Answer the following questions:\n",
        "\n",
        "#### Q1. **Explain how your choice of library works**\n",
        "\n",
        "*I have choosen ScaNN library to implement this as it performs vector search in three phases:-*\n",
        "\n",
        "*   Partition Phase:-In this phase firstly it splits the dataset during training time and at the query time it selects the top partitions from the partitioned dataset to pass onto the scoring stage.\n",
        "\n",
        "*   Scoring Phase:-In this phase scann calculates the distance between the query as well as to all the data points\n",
        "in the dataset(if the partition is not enabled) or to all the datapoints in the partition to search(if partition is enabled).\n",
        "\n",
        "\n",
        "*   Rescoring Phase:- In this phase ScaNN takes the best k' distances from scoring and recalculates them more precisely. The top k are chosen from these k' re-computed distances. This step is highly recommended.\n",
        "\n",
        "\n",
        "\n",
        "\n",
        "<br><br>\n",
        "\n",
        "#### Q2. **Compare your choice of library with vanilla KNN.**\n",
        "***Hint: Include Time Complexity, and explain the tradeoff with recall***\n",
        "\n",
        "*I choose ScaNN library as it works fast when we compared to vanilla KNN because as ScaNN splits the dataset into different partition due to which it takes less searching spcae but in vanilla KNN searching space is large due to which time taken is more.*\n",
        "\n",
        "*When we compare the recall value, vanilla KNN is having higher value but we can also get the same ercall value for ScaNN if we can compromise with the speed.*\n",
        "\n",
        "<br><br>\n",
        "\n",
        "#### Q3. **Compare your choice of library with implementation of ScaNN, faiss and annoy.**\n",
        "***Hint: Include Time Complexity, and explain the tradeoff with recall***\n",
        "\n",
        "The graph is comparing speed or accuracy of all the three and out of all ScaNN is faster than other two\n",
        "ScaNN < faiss < annoy \n",
        "This is the order of the all the three when compared as respect to time complexity.\n",
        "\n",
        "From [ann-benchmarks.com](http://ann-benchmarks.com/)![data.png](https://github.com/google-research/google-research/raw/master/scann/docs/glove_bench.png)\n",
        "\n",
        "Graph indicate that for particular Accuracy out of all three ScaNN performs faster when compare with others.\n",
        "\n",
        "For a particular value of speed Recall value of ScaNN is high as compared to others so that's why i choose ScaNN as for a particular speed it gave the better accuracy.\n",
        "For a particular speed Recall value of ScaNN is highest and annoy having lowest value out of all the three.\n",
        "\n"
      ]
    },
    {
      "cell_type": "markdown",
      "id": "142440b0",
      "metadata": {
        "id": "142440b0"
      },
      "source": [
        "### Open the output file to write all the lines to the file"
      ]
    },
    {
      "cell_type": "code",
      "execution_count": 14,
      "id": "977b08f9",
      "metadata": {
        "id": "977b08f9"
      },
      "outputs": [],
      "source": [
        "outFile = open(config['output_file'], 'w')\n",
        "\n",
        "for n_user in answer(user,k_value):\n",
        "    # user_id = list(user_likes.keys())[n_user]\n",
        "    main_set=set(user_likes[user])\n",
        "    ultimate_set=set(user_likes[n_user])\n",
        "    final_set=ultimate_set.difference(main_set)\n",
        "    for item_id in final_set:\n",
        "        outFile.write(str(item_id) + ' ' + str(n_user) + '\\n')\n",
        "\n",
        "outFile.close()"
      ]
    }
  ],
  "metadata": {
    "kernelspec": {
      "display_name": "Python 3",
      "language": "python",
      "name": "python3"
    },
    "language_info": {
      "codemirror_mode": {
        "name": "ipython",
        "version": 3
      },
      "file_extension": ".py",
      "mimetype": "text/x-python",
      "name": "python",
      "nbconvert_exporter": "python",
      "pygments_lexer": "ipython3",
      "version": "3.8.10"
    },
    "colab": {
      "name": "2021201016_Assignment1_Question2.ipynb",
      "provenance": [],
      "collapsed_sections": []
    }
  },
  "nbformat": 4,
  "nbformat_minor": 5
}